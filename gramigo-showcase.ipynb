{
 "cells": [
  {
   "cell_type": "markdown",
   "metadata": {},
   "source": [
    "# 1. Install and Import Dependencies"
   ]
  },
  {
   "cell_type": "markdown",
   "metadata": {},
   "source": [
    "### Please go to https://pytorch.org/get-started/locally/ for a greater understanding of pytorch package\n",
    "\n",
    "- Install pyTorch 2.3.0 + CUDA 12.1 in Windows System\n",
    "\n",
    "    !pip3 install torch torchvision torchaudio --index-url https://download.pytorch.org/whl/cu121\n",
    "\n",
    "- Install pyTorch 2.3.0 + ROCm60 (AMD GPU) in Linux system\n",
    "\n",
    "    !pip3 install torch torchvision torchaudio --index-url https://download.pytorch.org/whl/rocm6.0\n",
    "\n",
    "- Install pyTorch 2.3.0 + CPU in Windows/Linux system\n",
    "\n",
    "    !pip3 install torch torchvision torchaudio --index-url https://download.pytorch.org/whl/cpu"
   ]
  },
  {
   "cell_type": "code",
   "execution_count": null,
   "metadata": {},
   "outputs": [],
   "source": [
    "# Install pyTorch 2.3.1 + CPU in Windows/Linux system (Colab case)\n",
    "!pip3 install torch torchvision torchaudio --index-url https://download.pytorch.org/whl/cpu"
   ]
  },
  {
   "cell_type": "markdown",
   "metadata": {},
   "source": [
    "### Gramformer website:\n",
    "https://github.com/PrithivirajDamodaran/Gramformer"
   ]
  },
  {
   "cell_type": "code",
   "execution_count": null,
   "metadata": {},
   "outputs": [],
   "source": [
    "# Install Gramformer package \n",
    "!pip3 install git+https://github.com/PrithivirajDamodaran/Gramformer.git"
   ]
  },
  {
   "cell_type": "code",
   "execution_count": null,
   "metadata": {},
   "outputs": [],
   "source": [
    "# Import Gramformer\n",
    "from gramformer import Gramformer"
   ]
  },
  {
   "cell_type": "markdown",
   "metadata": {},
   "source": [
    "# 2. Instantiate Gramformer"
   ]
  },
  {
   "cell_type": "code",
   "execution_count": null,
   "metadata": {},
   "outputs": [],
   "source": [
    "# Pre-install nlp, spacy packages and load up \"en_core_web_sm\" - RUN ONCE ONLY\n",
    "!pip3 install nlp spacy\n",
    "!python -m spacy download en_core_web_sm"
   ]
  },
  {
   "cell_type": "code",
   "execution_count": null,
   "metadata": {},
   "outputs": [],
   "source": [
    "# Create an instance with 'model' parameter: 1 = corrector, 2 = detector\n",
    "# '1 = corrector' is available while '2 = detector' is coming soon as of 17 June 2024\n",
    "gf = Gramformer(models=1, use_gpu=False) \n",
    "\n",
    "## This step shall download the pytorch model binary file from huggingface.co, which is impossible to do on some home networks.\n",
    "## it work very well on colab.research.google.com though."
   ]
  },
  {
   "cell_type": "markdown",
   "metadata": {},
   "source": [
    "# 3. Run Correction"
   ]
  },
  {
   "cell_type": "code",
   "execution_count": null,
   "metadata": {},
   "outputs": [],
   "source": [
    "gf.correct('My camera battery a dead')"
   ]
  },
  {
   "cell_type": "code",
   "execution_count": null,
   "metadata": {},
   "outputs": [],
   "source": [
    "sentences = [\n",
    "    'I like for walks', \n",
    "    'World is flat', \n",
    "    'Red a color', \n",
    "    'I wish my Computer was run faster.'\n",
    "]"
   ]
  },
  {
   "cell_type": "code",
   "execution_count": null,
   "metadata": {},
   "outputs": [],
   "source": [
    "for sentence in sentences:\n",
    "    res = gf.correct(sentence)\n",
    "    print(res)"
   ]
  },
  {
   "cell_type": "markdown",
   "metadata": {},
   "source": [
    "# 4. Putting it Together with Gradio"
   ]
  },
  {
   "cell_type": "code",
   "execution_count": null,
   "metadata": {},
   "outputs": [],
   "source": [
    "!pip3 install gradio"
   ]
  },
  {
   "cell_type": "code",
   "execution_count": null,
   "metadata": {},
   "outputs": [],
   "source": [
    "import gradio as gr"
   ]
  },
  {
   "cell_type": "code",
   "execution_count": null,
   "metadata": {},
   "outputs": [],
   "source": [
    "def correct(sentence):\n",
    "    res = gf.correct(sentence) # Gramformer correct\n",
    "    return res # Return first value in res array"
   ]
  },
  {
   "cell_type": "code",
   "execution_count": null,
   "metadata": {},
   "outputs": [],
   "source": [
    "correct('I like for walks')"
   ]
  },
  {
   "cell_type": "code",
   "execution_count": null,
   "metadata": {},
   "outputs": [],
   "source": [
    "app_inputs = gr.components.Textbox(lines=2, placeholder=\"Enter sentence here...\")"
   ]
  },
  {
   "cell_type": "code",
   "execution_count": null,
   "metadata": {},
   "outputs": [],
   "source": [
    "interface = gr.Interface(fn=correct, \n",
    "                        inputs=app_inputs,\n",
    "                        outputs='text', \n",
    "                        title='I\\'m Gramigo')"
   ]
  },
  {
   "cell_type": "code",
   "execution_count": null,
   "metadata": {},
   "outputs": [],
   "source": [
    "interface.launch(share=True)"
   ]
  },
  {
   "cell_type": "markdown",
   "metadata": {},
   "source": [
    "## The End"
   ]
  }
 ],
 "metadata": {
  "kernelspec": {
   "display_name": "Python 3 (ipykernel)",
   "language": "python",
   "name": "python3"
  },
  "language_info": {
   "codemirror_mode": {
    "name": "ipython",
    "version": 3
   },
   "file_extension": ".py",
   "mimetype": "text/x-python",
   "name": "python",
   "nbconvert_exporter": "python",
   "pygments_lexer": "ipython3",
   "version": "3.11.6"
  }
 },
 "nbformat": 4,
 "nbformat_minor": 4
}
